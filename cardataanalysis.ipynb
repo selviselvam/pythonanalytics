import pandas as pd
pd.set_option('display.max_rows', 50)
import matplotlib.pyplot as plt
import seaborn as sns 
car_sales_data = pd.read_csv("https://raw.githubusercontent.com/insaid2018/Term-1/master/Data/Projects/car_sales.csv", encoding='cp1252')
#It gives the number of rows and coloms 
#print(car_sales_data.shape)
#It gives no of counts 
print(car_sales_data.isnull().sum())
#car_sales_data.head()
#print(car_sales_data)
#Slicing the data
#print(car_sales_data[0:5]['car'])
#Priniting multi axies data
#print (car_sales_data.loc[:,['car','price']])
#Reading Specific Columns and Rows
#print (car_sales_data.loc[[10,25,30],['car','price']])
#Reading Specific Columns for a Range of Rows
#print (car_sales_data.loc[12:20,['car','price']])
#car_sales_data.describe() 
#df = car_sales_data [['car','price']][car_sales_data.price==car_sales_data['price'].max()]
#print(df)
#from pandas_profiling import ProfileReport
#We only use the first 2000 data points
prof = ProfileReport(car_sales_data.sample(n=2000)) 
prof.to_file(output_file='output.html')
